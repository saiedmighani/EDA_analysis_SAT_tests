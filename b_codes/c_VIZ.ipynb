{
 "cells": [
  {
   "cell_type": "markdown",
   "metadata": {},
   "source": [
    "## Visualize the data\n",
    "\n",
    "There's not a magic bullet recommendation for the right number of plots to understand a given dataset, but visualizing your data is *always* a good idea. Not only does it allow you to quickly convey your findings (even if you have a non-technical audience), it will often reveal trends in your data that escaped you when you were looking only at numbers.\n",
    "\n",
    "Some recommendations on plotting:\n",
    "- Plots have titles\n",
    "- Plots have axis labels\n",
    "- Plots have appropriate tick labels\n",
    "- All text is legible in a plot\n",
    "- Plots demonstrate meaningful and valid relationships\n",
    "- Plots are interpreted to aid understanding\n",
    "\n",
    "There is such a thing as too many plots, and there are a *lot* of bad plots. You might make some! (But hopefully not with the guided prompts below)."
   ]
  },
  {
   "cell_type": "code",
   "execution_count": 1,
   "metadata": {},
   "outputs": [],
   "source": [
    "# Importing NumPy and Pandas.\n",
    "import numpy as np\n",
    "import pandas as pd\n",
    "\n",
    "# Importing matplotlib.pyplot - the specific plotting API \n",
    "# https://matplotlib.org/api/pyplot_api.html\n",
    "import matplotlib.pyplot as plt\n",
    "\n",
    "# Import Seaborn.\n",
    "import seaborn as sns"
   ]
  },
  {
   "cell_type": "code",
   "execution_count": 2,
   "metadata": {},
   "outputs": [
    {
     "data": {
      "text/html": [
       "<div>\n",
       "<style scoped>\n",
       "    .dataframe tbody tr th:only-of-type {\n",
       "        vertical-align: middle;\n",
       "    }\n",
       "\n",
       "    .dataframe tbody tr th {\n",
       "        vertical-align: top;\n",
       "    }\n",
       "\n",
       "    .dataframe thead th {\n",
       "        text-align: right;\n",
       "    }\n",
       "</style>\n",
       "<table border=\"1\" class=\"dataframe\">\n",
       "  <thead>\n",
       "    <tr style=\"text-align: right;\">\n",
       "      <th></th>\n",
       "      <th>count</th>\n",
       "      <th>mean</th>\n",
       "      <th>std</th>\n",
       "      <th>min</th>\n",
       "      <th>25%</th>\n",
       "      <th>50%</th>\n",
       "      <th>75%</th>\n",
       "      <th>max</th>\n",
       "    </tr>\n",
       "  </thead>\n",
       "  <tbody>\n",
       "    <tr>\n",
       "      <th>sat_2017_participation</th>\n",
       "      <td>50.0</td>\n",
       "      <td>39.120</td>\n",
       "      <td>35.216323</td>\n",
       "      <td>2.0</td>\n",
       "      <td>4.000</td>\n",
       "      <td>34.00</td>\n",
       "      <td>65.000</td>\n",
       "      <td>100.0</td>\n",
       "    </tr>\n",
       "    <tr>\n",
       "      <th>sat_2017_read_write</th>\n",
       "      <td>50.0</td>\n",
       "      <td>570.400</td>\n",
       "      <td>44.870335</td>\n",
       "      <td>503.0</td>\n",
       "      <td>532.750</td>\n",
       "      <td>559.50</td>\n",
       "      <td>613.500</td>\n",
       "      <td>644.0</td>\n",
       "    </tr>\n",
       "    <tr>\n",
       "      <th>sat_2017_math</th>\n",
       "      <td>50.0</td>\n",
       "      <td>558.160</td>\n",
       "      <td>46.359007</td>\n",
       "      <td>492.0</td>\n",
       "      <td>523.250</td>\n",
       "      <td>549.50</td>\n",
       "      <td>601.000</td>\n",
       "      <td>651.0</td>\n",
       "    </tr>\n",
       "    <tr>\n",
       "      <th>sat_2017_total</th>\n",
       "      <td>50.0</td>\n",
       "      <td>1128.660</td>\n",
       "      <td>90.922171</td>\n",
       "      <td>996.0</td>\n",
       "      <td>1055.250</td>\n",
       "      <td>1107.50</td>\n",
       "      <td>1214.000</td>\n",
       "      <td>1295.0</td>\n",
       "    </tr>\n",
       "    <tr>\n",
       "      <th>act_2017_participation</th>\n",
       "      <td>50.0</td>\n",
       "      <td>65.520</td>\n",
       "      <td>32.711628</td>\n",
       "      <td>8.0</td>\n",
       "      <td>31.000</td>\n",
       "      <td>71.00</td>\n",
       "      <td>100.000</td>\n",
       "      <td>100.0</td>\n",
       "    </tr>\n",
       "    <tr>\n",
       "      <th>act_2017_english</th>\n",
       "      <td>50.0</td>\n",
       "      <td>20.880</td>\n",
       "      <td>2.346948</td>\n",
       "      <td>16.3</td>\n",
       "      <td>19.000</td>\n",
       "      <td>20.55</td>\n",
       "      <td>23.100</td>\n",
       "      <td>25.5</td>\n",
       "    </tr>\n",
       "    <tr>\n",
       "      <th>act_2017_math</th>\n",
       "      <td>50.0</td>\n",
       "      <td>21.154</td>\n",
       "      <td>1.996242</td>\n",
       "      <td>18.0</td>\n",
       "      <td>19.400</td>\n",
       "      <td>20.90</td>\n",
       "      <td>23.000</td>\n",
       "      <td>25.3</td>\n",
       "    </tr>\n",
       "    <tr>\n",
       "      <th>act_2017_reading</th>\n",
       "      <td>50.0</td>\n",
       "      <td>21.968</td>\n",
       "      <td>2.061448</td>\n",
       "      <td>18.1</td>\n",
       "      <td>20.425</td>\n",
       "      <td>21.70</td>\n",
       "      <td>23.875</td>\n",
       "      <td>26.0</td>\n",
       "    </tr>\n",
       "    <tr>\n",
       "      <th>act_2017_science</th>\n",
       "      <td>50.0</td>\n",
       "      <td>21.420</td>\n",
       "      <td>1.743911</td>\n",
       "      <td>18.2</td>\n",
       "      <td>19.925</td>\n",
       "      <td>21.30</td>\n",
       "      <td>22.975</td>\n",
       "      <td>24.9</td>\n",
       "    </tr>\n",
       "    <tr>\n",
       "      <th>act_2017_composite</th>\n",
       "      <td>50.0</td>\n",
       "      <td>21.000</td>\n",
       "      <td>2.070197</td>\n",
       "      <td>17.0</td>\n",
       "      <td>19.000</td>\n",
       "      <td>21.00</td>\n",
       "      <td>22.750</td>\n",
       "      <td>25.0</td>\n",
       "    </tr>\n",
       "    <tr>\n",
       "      <th>sat_2018_participation</th>\n",
       "      <td>50.0</td>\n",
       "      <td>45.280</td>\n",
       "      <td>37.630882</td>\n",
       "      <td>2.0</td>\n",
       "      <td>4.250</td>\n",
       "      <td>50.00</td>\n",
       "      <td>76.750</td>\n",
       "      <td>100.0</td>\n",
       "    </tr>\n",
       "    <tr>\n",
       "      <th>sat_2018_read_write</th>\n",
       "      <td>50.0</td>\n",
       "      <td>564.360</td>\n",
       "      <td>47.526044</td>\n",
       "      <td>480.0</td>\n",
       "      <td>534.250</td>\n",
       "      <td>552.00</td>\n",
       "      <td>612.750</td>\n",
       "      <td>643.0</td>\n",
       "    </tr>\n",
       "    <tr>\n",
       "      <th>sat_2018_math</th>\n",
       "      <td>50.0</td>\n",
       "      <td>557.080</td>\n",
       "      <td>47.565997</td>\n",
       "      <td>486.0</td>\n",
       "      <td>522.250</td>\n",
       "      <td>545.50</td>\n",
       "      <td>594.250</td>\n",
       "      <td>655.0</td>\n",
       "    </tr>\n",
       "    <tr>\n",
       "      <th>sat_2018_total</th>\n",
       "      <td>50.0</td>\n",
       "      <td>1121.540</td>\n",
       "      <td>93.954007</td>\n",
       "      <td>998.0</td>\n",
       "      <td>1055.250</td>\n",
       "      <td>1098.50</td>\n",
       "      <td>1207.000</td>\n",
       "      <td>1298.0</td>\n",
       "    </tr>\n",
       "    <tr>\n",
       "      <th>act_2018_participation</th>\n",
       "      <td>50.0</td>\n",
       "      <td>61.840</td>\n",
       "      <td>34.727135</td>\n",
       "      <td>7.0</td>\n",
       "      <td>27.000</td>\n",
       "      <td>66.00</td>\n",
       "      <td>100.000</td>\n",
       "      <td>100.0</td>\n",
       "    </tr>\n",
       "    <tr>\n",
       "      <th>act_2018_composite</th>\n",
       "      <td>50.0</td>\n",
       "      <td>21.484</td>\n",
       "      <td>2.136979</td>\n",
       "      <td>17.7</td>\n",
       "      <td>19.925</td>\n",
       "      <td>21.05</td>\n",
       "      <td>23.775</td>\n",
       "      <td>25.6</td>\n",
       "    </tr>\n",
       "  </tbody>\n",
       "</table>\n",
       "</div>"
      ],
      "text/plain": [
       "                        count      mean        std    min       25%      50%  \\\n",
       "sat_2017_participation   50.0    39.120  35.216323    2.0     4.000    34.00   \n",
       "sat_2017_read_write      50.0   570.400  44.870335  503.0   532.750   559.50   \n",
       "sat_2017_math            50.0   558.160  46.359007  492.0   523.250   549.50   \n",
       "sat_2017_total           50.0  1128.660  90.922171  996.0  1055.250  1107.50   \n",
       "act_2017_participation   50.0    65.520  32.711628    8.0    31.000    71.00   \n",
       "act_2017_english         50.0    20.880   2.346948   16.3    19.000    20.55   \n",
       "act_2017_math            50.0    21.154   1.996242   18.0    19.400    20.90   \n",
       "act_2017_reading         50.0    21.968   2.061448   18.1    20.425    21.70   \n",
       "act_2017_science         50.0    21.420   1.743911   18.2    19.925    21.30   \n",
       "act_2017_composite       50.0    21.000   2.070197   17.0    19.000    21.00   \n",
       "sat_2018_participation   50.0    45.280  37.630882    2.0     4.250    50.00   \n",
       "sat_2018_read_write      50.0   564.360  47.526044  480.0   534.250   552.00   \n",
       "sat_2018_math            50.0   557.080  47.565997  486.0   522.250   545.50   \n",
       "sat_2018_total           50.0  1121.540  93.954007  998.0  1055.250  1098.50   \n",
       "act_2018_participation   50.0    61.840  34.727135    7.0    27.000    66.00   \n",
       "act_2018_composite       50.0    21.484   2.136979   17.7    19.925    21.05   \n",
       "\n",
       "                             75%     max  \n",
       "sat_2017_participation    65.000   100.0  \n",
       "sat_2017_read_write      613.500   644.0  \n",
       "sat_2017_math            601.000   651.0  \n",
       "sat_2017_total          1214.000  1295.0  \n",
       "act_2017_participation   100.000   100.0  \n",
       "act_2017_english          23.100    25.5  \n",
       "act_2017_math             23.000    25.3  \n",
       "act_2017_reading          23.875    26.0  \n",
       "act_2017_science          22.975    24.9  \n",
       "act_2017_composite        22.750    25.0  \n",
       "sat_2018_participation    76.750   100.0  \n",
       "sat_2018_read_write      612.750   643.0  \n",
       "sat_2018_math            594.250   655.0  \n",
       "sat_2018_total          1207.000  1298.0  \n",
       "act_2018_participation   100.000   100.0  \n",
       "act_2018_composite        23.775    25.6  "
      ]
     },
     "execution_count": 2,
     "metadata": {},
     "output_type": "execute_result"
    }
   ],
   "source": [
    "df_final = pd.read_csv(\"../a_data/final.csv\")\n",
    "df_final.describe().T"
   ]
  },
  {
   "cell_type": "markdown",
   "metadata": {},
   "source": [
    "#### Use Seaborn's heatmap with pandas `.corr()` to visualize correlations between all numeric features\n",
    "\n",
    "Heatmaps are generally not appropriate for presentations, and should often be excluded from reports as they can be visually overwhelming. **However**, they can be extremely useful in identify relationships of potential interest (as well as identifying potential collinearity before modeling).\n",
    "\n",
    "*example*:\n",
    "```python\n",
    "sns.heatmap(df.corr())\n",
    "```\n",
    "\n",
    "Please take time to format your output, adding a title. Look through some of the additional arguments and options. (Axis labels aren't really necessary, as long as the title is informative)."
   ]
  },
  {
   "cell_type": "code",
   "execution_count": 3,
   "metadata": {},
   "outputs": [
    {
     "name": "stderr",
     "output_type": "stream",
     "text": [
      "/Users/smighani/opt/anaconda3/lib/python3.7/site-packages/pandas/core/frame.py:4133: SettingWithCopyWarning: \n",
      "A value is trying to be set on a copy of a slice from a DataFrame\n",
      "\n",
      "See the caveats in the documentation: https://pandas.pydata.org/pandas-docs/stable/user_guide/indexing.html#returning-a-view-versus-a-copy\n",
      "  errors=errors,\n"
     ]
    }
   ],
   "source": [
    "df_parted = df_final[[\"sat_2017_participation\", \"sat_2018_participation\", \"act_2017_participation\", \"act_2018_participation\"]]\n",
    "\n",
    "\n",
    "new_columns_dict = {\n",
    "    'sat_2017_participation': 'sat_17',\n",
    "    'sat_2018_participation': 'sat_18',\n",
    "    'act_2017_participation': 'act_17',\n",
    "    'act_2018_participation': 'act_18',\n",
    "}\n",
    "\n",
    "df_parted.rename(columns=new_columns_dict, inplace=True)"
   ]
  },
  {
   "cell_type": "code",
   "execution_count": 4,
   "metadata": {},
   "outputs": [
    {
     "data": {
      "image/png": "[encoded data removed]",
      "text/plain": [
       "<Figure size 1152x648 with 2 Axes>"
      ]
     },
     "metadata": {
      "needs_background": "light"
     },
     "output_type": "display_data"
    }
   ],
   "source": [
    "#Inspired by 2.02 GA class session\n",
    "\n",
    "# This code is taken with minor modifications from https://seaborn.pydata.org/generated/seaborn.heatmap.html\n",
    "\n",
    "# Establish size of figure.\n",
    "plt.figure(figsize = (16,9))\n",
    "\n",
    "# Get correlation of variables.\n",
    "corr = df_parted.corr()\n",
    "\n",
    "# Set up mask to be \"True\" in the upper triangle.\n",
    "mask = np.zeros_like(corr)\n",
    "mask[np.triu_indices_from(mask)] = True\n",
    "plt.title(\"SAT & ACT test participation in years 2017-2018\", fontsize = 15)\n",
    "# Plot our correlation heatmap, while masking the upper triangle to be white.\n",
    "with sns.axes_style(\"white\"):\n",
    "    sns.heatmap(corr, mask = mask, square = True, annot = True, vmin = -1, vmax = 1, linewidths = .5)\n",
    "    \n",
    "plt.savefig(\"../c_plots/heat_map.png\")"
   ]
  },
  {
   "cell_type": "code",
   "execution_count": null,
   "metadata": {},
   "outputs": [],
   "source": []
  },
  {
   "cell_type": "markdown",
   "metadata": {},
   "source": [
    "#### Define a custom function to subplot histograms\n",
    "\n",
    "We have data for two tests for two years. We only have composite (and not subtest scores) for the 2018 ACT. We should write a function that will take the names of 2+ columns and subplot histograms. While you can use pandas plotting or Seaborn here, matplotlib gives you greater control over all aspects of your plots.\n",
    "\n",
    "[Helpful Link for Plotting Multiple Figures](https://matplotlib.org/users/pyplot_tutorial.html#working-with-multiple-figures-and-axes)\n",
    "\n",
    "Here's some starter code:"
   ]
  },
  {
   "cell_type": "code",
   "execution_count": 5,
   "metadata": {},
   "outputs": [],
   "source": [
    "def subplot_histograms(dataframe, list_of_columns, list_of_titles, list_of_xlabels):\n",
    "    \n",
    "    plt.figure(figsize = (30,20))\n",
    "    nrows = int(np.ceil(len(list_of_columns)/2)) # Makes sure you have enough rows\n",
    "    fig, ax = plt.subplots(nrows=nrows, ncols=2) # You'll want to specify your figsize\n",
    "    ax = ax.ravel() # Ravel turns a matrix into a vector, which is easier to iterate\n",
    "    for i, column in enumerate(list_of_columns): # Gives us an index value to get into all our lists\n",
    "        ax[i].hist(dataframe[column], bins = 20, color = \"blue\", alpha = 0.5) # feel free to add more settings\n",
    "        # Set titles, labels, etc here for each subplot\n",
    "        #ax[i].vlines(x = np.mean(dataframe[column]), ymin = 0, ymax = y.max(), color = 'orange')\n",
    "        ax[i].set_title(list_of_titles[i])\n",
    "        ax[i].set_xlabel(list_of_xlabels[i])\n",
    "        plt.tight_layout()"
   ]
  },
  {
   "cell_type": "code",
   "execution_count": 6,
   "metadata": {},
   "outputs": [
    {
     "data": {
      "text/plain": [
       "<Figure size 2160x1440 with 0 Axes>"
      ]
     },
     "metadata": {},
     "output_type": "display_data"
    },
    {
     "data": {
      "image/png": "[encoded data removed]",
      "text/plain": [
       "<Figure size 432x288 with 4 Axes>"
      ]
     },
     "metadata": {
      "needs_background": "light"
     },
     "output_type": "display_data"
    }
   ],
   "source": [
    "subplot_histograms(df_final, [\"sat_2017_participation\", \"act_2017_participation\", \"sat_2018_participation\", \"act_2018_participation\"], [\"1\", \"2\", \"3\", \"4\"], [\"abc\", \"abc\", \"abc\", \"abc\"]);"
   ]
  },
  {
   "cell_type": "markdown",
   "metadata": {},
   "source": [
    "#### Plot and interpret histograms \n",
    "For each of the following:\n",
    "- Participation rates for SAT & ACT\n",
    "- Math scores for SAT & ACT\n",
    "- Reading/verbal scores for SAT & ACT"
   ]
  },
  {
   "cell_type": "code",
   "execution_count": 7,
   "metadata": {},
   "outputs": [
    {
     "data": {
      "text/plain": [
       "<Figure size 2160x1440 with 0 Axes>"
      ]
     },
     "metadata": {},
     "output_type": "display_data"
    },
    {
     "data": {
      "image/png": "[encoded data removed]",
      "text/plain": [
       "<Figure size 432x288 with 4 Axes>"
      ]
     },
     "metadata": {
      "needs_background": "light"
     },
     "output_type": "display_data"
    }
   ],
   "source": [
    "# Code\n",
    "dataframe = df_final\n",
    "list_of_columns = [\"sat_2017_participation\", \"act_2017_participation\", \"sat_2018_participation\", \"act_2018_participation\"]\n",
    "list_of_titles = list_of_columns\n",
    "list_of_xlabels = list_of_columns\n",
    "\n",
    "subplot_histograms(dataframe, list_of_columns, list_of_titles, list_of_xlabels);\n",
    "\n",
    "plt.savefig(\"../c_plots/hist_partic_sat_act.png\")"
   ]
  },
  {
   "cell_type": "code",
   "execution_count": 8,
   "metadata": {},
   "outputs": [
    {
     "data": {
      "text/plain": [
       "<Figure size 2160x1440 with 0 Axes>"
      ]
     },
     "metadata": {},
     "output_type": "display_data"
    },
    {
     "data": {
      "image/png": "[encoded data removed]",
      "text/plain": [
       "<Figure size 432x288 with 4 Axes>"
      ]
     },
     "metadata": {
      "needs_background": "light"
     },
     "output_type": "display_data"
    }
   ],
   "source": [
    "dataframe = df_final\n",
    "list_of_columns = [\"sat_2017_math\", \"sat_2018_math\", \"act_2017_math\"]\n",
    "list_of_titles = list_of_columns\n",
    "list_of_xlabels = list_of_columns\n",
    "\n",
    "subplot_histograms(dataframe, list_of_columns, list_of_titles, list_of_xlabels);\n",
    "\n",
    "plt.savefig(\"../c_plots/hist_sat_act_math.png\")"
   ]
  },
  {
   "cell_type": "code",
   "execution_count": 9,
   "metadata": {},
   "outputs": [
    {
     "data": {
      "text/plain": [
       "<Figure size 2160x1440 with 0 Axes>"
      ]
     },
     "metadata": {},
     "output_type": "display_data"
    },
    {
     "data": {
      "image/png": "[encoded data removed]",
      "text/plain": [
       "<Figure size 432x288 with 4 Axes>"
      ]
     },
     "metadata": {
      "needs_background": "light"
     },
     "output_type": "display_data"
    }
   ],
   "source": [
    "dataframe = df_final\n",
    "list_of_columns = [\"sat_2017_read_write\", \"sat_2018_read_write\", \"act_2017_reading\"]\n",
    "list_of_titles = list_of_columns\n",
    "list_of_xlabels = list_of_columns\n",
    "\n",
    "subplot_histograms(dataframe, list_of_columns, list_of_titles, list_of_xlabels);\n",
    "\n",
    "plt.savefig(\"../c_plots/hist_sat_act_read_write.png\")"
   ]
  },
  {
   "cell_type": "markdown",
   "metadata": {},
   "source": [
    "#### Plot and interpret scatter plots\n",
    "\n",
    "For each of the following:\n",
    "- SAT vs. ACT math scores for 2017\n",
    "- SAT vs. ACT verbal/reading scores for 2017\n",
    "- SAT vs. ACT total/composite scores for 2017\n",
    "- Total scores for SAT 2017 vs. 2018\n",
    "- Composite scores for ACT 2017 vs. 2018\n",
    "\n",
    "Plot the two variables against each other using matplotlib or Seaborn\n",
    "\n",
    "Your plots should show:\n",
    "- Two clearly labeled axes\n",
    "- A proper title\n",
    "- Using colors and symbols that are clear and unmistakable\n",
    "\n",
    "**Feel free to write a custom function, and subplot if you'd like.** Functions save both time and space.\n"
   ]
  },
  {
   "cell_type": "code",
   "execution_count": 16,
   "metadata": {},
   "outputs": [
    {
     "data": {
      "image/png": "[encoded data removed]",
      "text/plain": [
       "<Figure size 576x576 with 1 Axes>"
      ]
     },
     "metadata": {
      "needs_background": "light"
     },
     "output_type": "display_data"
    }
   ],
   "source": [
    "# Code\n",
    "\n",
    "plt.figure(figsize = (8, 8))\n",
    "\n",
    "# Create scatterplot of high prices versus volume.\n",
    "plt.scatter(df_final[\"sat_2017_math\"]/np.max(df_final[\"sat_2017_math\"]), df_final[\"sat_2017_read_write\"]/np.max(df_final[\"sat_2017_read_write\"]), color = \"blue\")\n",
    "plt.scatter(df_final[\"sat_2018_math\"]/np.max(df_final[\"sat_2018_math\"]), df_final[\"sat_2018_read_write\"]/np.max(df_final[\"sat_2018_read_write\"]), color = \"red\")\n",
    "plt.scatter(df_final[\"act_2017_math\"]/np.max(df_final[\"act_2017_math\"]), df_final[\"act_2017_reading\"]/np.max(df_final[\"act_2017_reading\"]), color = \"green\")\n",
    "plt.xticks(fontsize = 16)\n",
    "plt.yticks(fontsize = 16)\n",
    "plt.title(\"Math vs. read_write scores\", fontsize = 20)\n",
    "plt.xlabel(\"Normalized math score\", fontsize = 16)\n",
    "plt.ylabel(\"Normalized reading writing score\", fontsize = 16);\n",
    "plt.legend([\"sat_2017\", \"sat_2018\", \"act_2017\"], fontsize = 15)\n",
    "\n",
    "plt.savefig(\"../c_plots/scatter_read_write._math.png\")"
   ]
  },
  {
   "cell_type": "markdown",
   "metadata": {},
   "source": [
    "#### Plot and interpret boxplots\n",
    "\n",
    "For each numeric variable in the dataframe create a boxplot using Seaborn. Boxplots demonstrate central tendency and spread in variables. In a certain sense, these are somewhat redundant with histograms, but you may be better able to identify clear outliers or differences in IQR, etc.\n",
    "\n",
    "Multiple values can be plotted to a single boxplot as long as they are of the same relative scale (meaning they have similar min/max values).\n",
    "\n",
    "Each boxplot should:\n",
    "- Only include variables of a similar scale\n",
    "- Have clear labels for each variable\n",
    "- Have appropriate titles and labels"
   ]
  },
  {
   "cell_type": "code",
   "execution_count": 11,
   "metadata": {},
   "outputs": [],
   "source": [
    "# Code"
   ]
  },
  {
   "cell_type": "code",
   "execution_count": null,
   "metadata": {},
   "outputs": [],
   "source": []
  },
  {
   "cell_type": "code",
   "execution_count": null,
   "metadata": {},
   "outputs": [],
   "source": []
  },
  {
   "cell_type": "markdown",
   "metadata": {},
   "source": [
    "## Outside Research"
   ]
  },
  {
   "cell_type": "markdown",
   "metadata": {},
   "source": [
    "Based upon your observations, choose **three** states that demonstrate interesting trends in their SAT and/or ACT participation rates. Spend some time doing outside research on state policies that might influence these rates, and summarize your findings below. **Feel free to go back and create new plots that highlight these states of interest**. If you bring in any outside tables or charts, make sure you are explicit about having borrowed them. If you quote any text, make sure that it renders as being quoted. (Make sure that you cite your sources -- check with you local instructor for citation preferences)."
   ]
  },
  {
   "cell_type": "code",
   "execution_count": null,
   "metadata": {},
   "outputs": [],
   "source": []
  },
  {
   "cell_type": "markdown",
   "metadata": {},
   "source": [
    "## Conclusions and Recommendations"
   ]
  },
  {
   "cell_type": "markdown",
   "metadata": {},
   "source": [
    "Based on your exploration of the data, what are you key takeaways and recommendations? Choose one state with a lower participation rate and provide a suggestion for how the College Board might increase participation amongst graduating seniors in this state. Are there additional data you desire that would better inform your investigations?"
   ]
  },
  {
   "cell_type": "code",
   "execution_count": null,
   "metadata": {},
   "outputs": [],
   "source": []
  },
  {
   "cell_type": "markdown",
   "metadata": {},
   "source": [
    "## Bonus: Descriptive and Inferential Statistics"
   ]
  },
  {
   "cell_type": "markdown",
   "metadata": {},
   "source": [
    "#### Summarizing Distributions\n",
    "\n",
    "Above, we used pandas `describe` to provide quick summary statistics of our numeric columns. We also demonstrated many visual relationships.\n",
    "\n",
    "As data scientists, having a complete understanding of data is imperative prior to modeling.\n",
    "\n",
    "While we will continue to build our analytic tools, we know that measures of *central tendency*, *spread*, and *shape/skewness* provide a quick summary of distributions.\n",
    "\n",
    "For each variable in your data, summarize the underlying distributions (in words & statistics)\n",
    " - Be thorough in your verbal description of these distributions.\n",
    " - Be sure to back up these summaries with statistics."
   ]
  },
  {
   "cell_type": "markdown",
   "metadata": {},
   "source": [
    "Answers:"
   ]
  },
  {
   "cell_type": "markdown",
   "metadata": {},
   "source": [
    "#### We generally assuming that data we sample from a population will be normally distributed. Do we observe this trend?"
   ]
  },
  {
   "cell_type": "markdown",
   "metadata": {},
   "source": [
    "Answer:"
   ]
  },
  {
   "cell_type": "markdown",
   "metadata": {},
   "source": [
    "Does This Assumption Hold for:\n",
    "    - Math\n",
    "    - Reading\n",
    "    - Rates\n",
    "Explain your answers for each distribution and how you think this will affect estimates made from these data."
   ]
  },
  {
   "cell_type": "markdown",
   "metadata": {},
   "source": [
    "Answer:"
   ]
  },
  {
   "cell_type": "markdown",
   "metadata": {},
   "source": [
    "#### Estimate Limits of Data\n",
    "\n",
    "Suppose we only seek to understand the relationship between SAT and ACT participation rates in 2017. \n",
    "\n",
    "##### Does it make sense to conduct statistical inference given these data specifically? \n",
    "\n",
    "Why or why not?\n",
    "\n",
    "*(think about granularity, aggregation, the relationships between populations size & rates...consider the actually populations these data describe in answering this question)*"
   ]
  },
  {
   "cell_type": "markdown",
   "metadata": {},
   "source": [
    "Answer:"
   ]
  },
  {
   "cell_type": "markdown",
   "metadata": {},
   "source": [
    "##### Is it appropriate to compare *these* specific SAT and ACT math scores? \n",
    "\n",
    "Why or why not?"
   ]
  },
  {
   "cell_type": "markdown",
   "metadata": {},
   "source": [
    "Answer:"
   ]
  },
  {
   "cell_type": "markdown",
   "metadata": {},
   "source": [
    "#### Statistical Evaluation of Distributions \n",
    "\n",
    "**If you feel it's appropriate**, using methods we discussed in class, run hypothesis tests to compare variables of interest in our dataset. "
   ]
  },
  {
   "cell_type": "code",
   "execution_count": 12,
   "metadata": {},
   "outputs": [],
   "source": [
    "# Code:"
   ]
  }
 ],
 "metadata": {
  "anaconda-cloud": {},
  "kernelspec": {
   "display_name": "Python 3",
   "language": "python",
   "name": "python3"
  },
  "language_info": {
   "codemirror_mode": {
    "name": "ipython",
    "version": 3
   },
   "file_extension": ".py",
   "mimetype": "text/x-python",
   "name": "python",
   "nbconvert_exporter": "python",
   "pygments_lexer": "ipython3",
   "version": "3.7.6"
  }
 },
 "nbformat": 4,
 "nbformat_minor": 4
}
